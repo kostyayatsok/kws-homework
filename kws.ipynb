{
  "nbformat": 4,
  "nbformat_minor": 0,
  "metadata": {
    "notebookPath": "kws-homework/kws.ipynb",
    "accelerator": "GPU",
    "language_info": {
      "version": "3.7.7",
      "mimetype": "text/x-python",
      "codemirror_mode": {
        "name": "ipython",
        "version": 3
      },
      "name": "python",
      "nbconvert_exporter": "python",
      "pygments_lexer": "ipython3",
      "file_extension": ".py"
    },
    "notebookId": "3e35d411-455e-4fc7-abbb-fe61cfdaed88",
    "colab": {
      "name": "seminar.ipynb",
      "provenance": [],
      "collapsed_sections": [
        "e8G9xPRVqUYk",
        "kTlsn6cpqUYk",
        "zoAxmihY8yxr",
        "WzeLiSTsoFa7"
      ]
    },
    "kernelspec": {
      "name": "python3",
      "display_name": "Yandex DataSphere Kernel",
      "language": "python"
    }
  },
  "cells": [
    {
      "cell_type": "markdown",
      "metadata": {
        "cellId": "5e2enn8gcfcdcgemhdv7tw",
        "id": "_lhrn5O-qUYZ"
      },
      "source": [
        "# Import and misc"
      ]
    },
    {
      "cell_type": "code",
      "metadata": {
        "id": "fDYpjMsOoHy2"
      },
      "source": [
        "# !git clone https://github.com/kostyayatsok/kws-homework.git"
      ],
      "execution_count": 1,
      "outputs": []
    },
    {
      "cell_type": "code",
      "metadata": {
        "id": "Me4LwANP63Ji"
      },
      "source": [
        "import os\n",
        "os.chdir('./kws-homework/')"
      ],
      "execution_count": 2,
      "outputs": []
    },
    {
      "cell_type": "code",
      "metadata": {
        "id": "meO-Mp9jiAFC",
        "cellId": "yi282fxdfp9a88i1dzv9pi",
        "trusted": true
      },
      "source": [
        "# %pip install torchaudio==0.9.1"
      ],
      "execution_count": 3,
      "outputs": []
    },
    {
      "cell_type": "code",
      "metadata": {
        "id": "bbUpoArCqUYa",
        "cellId": "2mdihkk16q2r5q4ageuprf",
        "trusted": true
      },
      "source": [
        "#!g1.1\n",
        "from typing import Tuple, Union, List, Callable, Optional\n",
        "from tqdm import tqdm\n",
        "from itertools import islice\n",
        "import pathlib\n",
        "import dataclasses\n",
        "\n",
        "import numpy as np\n",
        "import pandas as pd\n",
        "\n",
        "import torch\n",
        "import torch.nn.functional as F\n",
        "from torch import nn\n",
        "from torch import distributions\n",
        "from torch.utils.data import DataLoader, Dataset, WeightedRandomSampler\n",
        "from torch.nn.utils.rnn import pad_sequence\n",
        "\n",
        "import torchaudio\n",
        "from IPython import display as display_\n",
        "\n",
        "torch.manual_seed(42)\n",
        "np.random.seed(42)"
      ],
      "execution_count": 4,
      "outputs": []
    },
    {
      "cell_type": "markdown",
      "metadata": {
        "cellId": "rf77fj57is6s7r7roaf2d",
        "id": "812GwLfqqUYf"
      },
      "source": [
        "# Task"
      ]
    },
    {
      "cell_type": "markdown",
      "metadata": {
        "cellId": "gtxjm07h83vodd6nkbb4en",
        "id": "i1DuQIyRqUYf"
      },
      "source": [
        "In this notebook we will implement a model for finding a keyword in a stream.\n",
        "\n",
        "We will implement the version with CRNN because it is easy and improves the model. \n",
        "(from https://www.dropbox.com/s/22ah2ba7dug6pzw/KWS_Attention.pdf)"
      ]
    },
    {
      "cell_type": "code",
      "metadata": {
        "id": "8PdhApeEh9pH",
        "cellId": "r1x3mjzmmhawdqs4bpgaf",
        "trusted": true
      },
      "source": [
        "#!g1.1\n",
        "@dataclasses.dataclass\n",
        "class TaskConfig:\n",
        "    keyword: str = 'sheila'  # We will use 1 key word -- 'sheila'\n",
        "    batch_size: int = 128\n",
        "    learning_rate: float = 3e-4\n",
        "    weight_decay: float = 1e-5\n",
        "    num_epochs: int = 20\n",
        "    n_mels: int = 40\n",
        "    cnn_out_channels: int = 8\n",
        "    kernel_size: Tuple[int, int] = (5, 20)\n",
        "    stride: Tuple[int, int] = (2, 8)\n",
        "    hidden_size: int = 64\n",
        "    gru_num_layers: int = 2\n",
        "    bidirectional: bool = False\n",
        "    num_classes: int = 2\n",
        "    sample_rate: int = 16000\n",
        "    device: torch.device = torch.device(\n",
        "        'cuda:0' if torch.cuda.is_available() else 'cpu')"
      ],
      "execution_count": 5,
      "outputs": []
    },
    {
      "cell_type": "markdown",
      "metadata": {
        "cellId": "pcmenfvfw1jqunvnkope7i",
        "id": "KA1gPmE1h9pI"
      },
      "source": [
        "# Data"
      ]
    },
    {
      "cell_type": "code",
      "metadata": {
        "id": "Y2N8zcx9MF1X",
        "cellId": "jeq6um3hkgpkkc3i0notm",
        "trusted": true
      },
      "source": [
        "# !wget http://download.tensorflow.org/data/speech_commands_v0.01.tar.gz -O speech_commands_v0.01.tar.gz\n",
        "# !mkdir speech_commands && tar -C speech_commands -xvzf speech_commands_v0.01.tar.gz 1> log"
      ],
      "execution_count": 6,
      "outputs": []
    },
    {
      "cell_type": "code",
      "metadata": {
        "id": "12wBTK0mNUsG",
        "cellId": "fwqjo2jldkhlq69dhyk6r",
        "trusted": true
      },
      "source": [
        "#!g1.1\n",
        "class SpeechCommandDataset(Dataset):\n",
        "\n",
        "    def __init__(\n",
        "        self,\n",
        "        transform: Optional[Callable] = None,\n",
        "        path2dir: str = None,\n",
        "        keywords: Union[str, List[str]] = None,\n",
        "        csv: Optional[pd.DataFrame] = None\n",
        "    ):        \n",
        "        self.transform = transform\n",
        "\n",
        "        if csv is None:\n",
        "            path2dir = pathlib.Path(path2dir)\n",
        "            keywords = keywords if isinstance(keywords, list) else [keywords]\n",
        "            \n",
        "            all_keywords = [\n",
        "                p.stem for p in path2dir.glob('*')\n",
        "                if p.is_dir() and not p.stem.startswith('_')\n",
        "            ]\n",
        "\n",
        "            triplets = []\n",
        "            for keyword in all_keywords:\n",
        "                paths = (path2dir / keyword).rglob('*.wav')\n",
        "                if keyword in keywords:\n",
        "                    for path2wav in paths:\n",
        "                        triplets.append((path2wav.as_posix(), keyword, 1))\n",
        "                else:\n",
        "                    for path2wav in paths:\n",
        "                        triplets.append((path2wav.as_posix(), keyword, 0))\n",
        "            \n",
        "            self.csv = pd.DataFrame(\n",
        "                triplets,\n",
        "                columns=['path', 'keyword', 'label']\n",
        "            )\n",
        "\n",
        "        else:\n",
        "            self.csv = csv\n",
        "    \n",
        "    def __getitem__(self, index: int):\n",
        "        instance = self.csv.iloc[index]\n",
        "\n",
        "        path2wav = instance['path']\n",
        "        wav, sr = torchaudio.load(path2wav)\n",
        "        wav = wav.sum(dim=0)\n",
        "        \n",
        "        if self.transform:\n",
        "            wav = self.transform(wav)\n",
        "\n",
        "        return {\n",
        "            'wav': wav,\n",
        "            'keywors': instance['keyword'],\n",
        "            'label': instance['label']\n",
        "        }\n",
        "\n",
        "    def __len__(self):\n",
        "        return len(self.csv)"
      ],
      "execution_count": 7,
      "outputs": []
    },
    {
      "cell_type": "code",
      "metadata": {
        "id": "-1rVkT81Pk90",
        "cellId": "6dav03muedps7xdww9e3n",
        "trusted": true
      },
      "source": [
        "#!g1.1\n",
        "dataset = SpeechCommandDataset(\n",
        "    path2dir='speech_commands', keywords=TaskConfig.keyword\n",
        ")"
      ],
      "execution_count": 8,
      "outputs": []
    },
    {
      "cell_type": "code",
      "metadata": {
        "id": "DFwhAXdfQLIA",
        "cellId": "8a59qgb849vxoi3trgwry",
        "trusted": true,
        "colab": {
          "base_uri": "https://localhost:8080/",
          "height": 204
        },
        "outputId": "c5e9f5ff-82a5-4cca-8fd4-5a87f4f61d0e"
      },
      "source": [
        "#!g1.1\n",
        "dataset.csv.sample(5)"
      ],
      "execution_count": 9,
      "outputs": [
        {
          "output_type": "execute_result",
          "data": {
            "text/html": [
              "<div>\n",
              "<style scoped>\n",
              "    .dataframe tbody tr th:only-of-type {\n",
              "        vertical-align: middle;\n",
              "    }\n",
              "\n",
              "    .dataframe tbody tr th {\n",
              "        vertical-align: top;\n",
              "    }\n",
              "\n",
              "    .dataframe thead th {\n",
              "        text-align: right;\n",
              "    }\n",
              "</style>\n",
              "<table border=\"1\" class=\"dataframe\">\n",
              "  <thead>\n",
              "    <tr style=\"text-align: right;\">\n",
              "      <th></th>\n",
              "      <th>path</th>\n",
              "      <th>keyword</th>\n",
              "      <th>label</th>\n",
              "    </tr>\n",
              "  </thead>\n",
              "  <tbody>\n",
              "    <tr>\n",
              "      <th>50866</th>\n",
              "      <td>speech_commands/bird/b6091c84_nohash_0.wav</td>\n",
              "      <td>bird</td>\n",
              "      <td>0</td>\n",
              "    </tr>\n",
              "    <tr>\n",
              "      <th>1003</th>\n",
              "      <td>speech_commands/no/0bd689d7_nohash_0.wav</td>\n",
              "      <td>no</td>\n",
              "      <td>0</td>\n",
              "    </tr>\n",
              "    <tr>\n",
              "      <th>38126</th>\n",
              "      <td>speech_commands/go/be7a5b2d_nohash_3.wav</td>\n",
              "      <td>go</td>\n",
              "      <td>0</td>\n",
              "    </tr>\n",
              "    <tr>\n",
              "      <th>144</th>\n",
              "      <td>speech_commands/no/25040e85_nohash_0.wav</td>\n",
              "      <td>no</td>\n",
              "      <td>0</td>\n",
              "    </tr>\n",
              "    <tr>\n",
              "      <th>31651</th>\n",
              "      <td>speech_commands/down/bdee441c_nohash_0.wav</td>\n",
              "      <td>down</td>\n",
              "      <td>0</td>\n",
              "    </tr>\n",
              "  </tbody>\n",
              "</table>\n",
              "</div>"
            ],
            "text/plain": [
              "                                             path keyword  label\n",
              "50866  speech_commands/bird/b6091c84_nohash_0.wav    bird      0\n",
              "1003     speech_commands/no/0bd689d7_nohash_0.wav      no      0\n",
              "38126    speech_commands/go/be7a5b2d_nohash_3.wav      go      0\n",
              "144      speech_commands/no/25040e85_nohash_0.wav      no      0\n",
              "31651  speech_commands/down/bdee441c_nohash_0.wav    down      0"
            ]
          },
          "metadata": {},
          "execution_count": 9
        }
      ]
    },
    {
      "cell_type": "markdown",
      "metadata": {
        "cellId": "vhorjvit57etpzytpvxe",
        "id": "LUxfDJw1qUYi"
      },
      "source": [
        "### Augmentations"
      ]
    },
    {
      "cell_type": "code",
      "metadata": {
        "id": "dkmkxPWQqUYe",
        "jupyter": {
          "source_hidden": true
        },
        "cellId": "5dwg9j4f2zd63p4b8ouzkx",
        "trusted": true
      },
      "source": [
        "#!g1.1\n",
        "class AugsCreation:\n",
        "\n",
        "    def __init__(self):\n",
        "        self.background_noises = [\n",
        "            'speech_commands/_background_noise_/white_noise.wav',\n",
        "            'speech_commands/_background_noise_/dude_miaowing.wav',\n",
        "            'speech_commands/_background_noise_/doing_the_dishes.wav',\n",
        "            'speech_commands/_background_noise_/exercise_bike.wav',\n",
        "            'speech_commands/_background_noise_/pink_noise.wav',\n",
        "            'speech_commands/_background_noise_/running_tap.wav'\n",
        "        ]\n",
        "\n",
        "        self.noises = [\n",
        "            torchaudio.load(p)[0].squeeze()\n",
        "            for p in self.background_noises\n",
        "        ]\n",
        "\n",
        "    def add_rand_noise(self, audio):\n",
        "\n",
        "        # randomly choose noise\n",
        "        noise_num = torch.randint(low=0, high=len(\n",
        "            self.background_noises), size=(1,)).item()\n",
        "        noise = self.noises[noise_num]\n",
        "\n",
        "        noise_level = torch.Tensor([1])  # [0, 40]\n",
        "\n",
        "        noise_energy = torch.norm(noise)\n",
        "        audio_energy = torch.norm(audio)\n",
        "        alpha = (audio_energy / noise_energy) * \\\n",
        "            torch.pow(10, -noise_level / 20)\n",
        "\n",
        "        start = torch.randint(\n",
        "            low=0,\n",
        "            high=max(int(noise.size(0) - audio.size(0) - 1), 1),\n",
        "            size=(1,)\n",
        "        ).item()\n",
        "        noise_sample = noise[start: start + audio.size(0)]\n",
        "\n",
        "        audio_new = audio + alpha * noise_sample\n",
        "        audio_new.clamp_(-1, 1)\n",
        "        return audio_new\n",
        "\n",
        "    def __call__(self, wav):\n",
        "        aug_num = torch.randint(low=0, high=4, size=(1,)).item()   # choose 1 random aug from augs\n",
        "        augs = [\n",
        "            lambda x: x,\n",
        "            lambda x: (x + distributions.Normal(0, 0.01).sample(x.size())).clamp_(-1, 1),\n",
        "            lambda x: torchaudio.transforms.Vol(.25)(x),\n",
        "            lambda x: self.add_rand_noise(x)\n",
        "        ]\n",
        "\n",
        "        return augs[aug_num](wav)"
      ],
      "execution_count": 10,
      "outputs": []
    },
    {
      "cell_type": "code",
      "metadata": {
        "id": "ClWThxyYh9pM",
        "jupyter": {
          "source_hidden": true
        },
        "cellId": "meuiwn7oazfikzsxbzly",
        "trusted": true
      },
      "source": [
        "#!g1.1\n",
        "indexes = torch.randperm(len(dataset))\n",
        "train_indexes = indexes[:int(len(dataset) * 0.8)]\n",
        "val_indexes = indexes[int(len(dataset) * 0.8):]\n",
        "\n",
        "train_df = dataset.csv.iloc[train_indexes].reset_index(drop=True)\n",
        "val_df = dataset.csv.iloc[val_indexes].reset_index(drop=True)"
      ],
      "execution_count": 11,
      "outputs": []
    },
    {
      "cell_type": "code",
      "metadata": {
        "id": "PDPLht5fqUYe",
        "jupyter": {
          "source_hidden": true
        },
        "cellId": "p01vkc8qf9gkb237ncp0g",
        "trusted": true
      },
      "source": [
        "#!g1.1\n",
        "# Sample is a dict of utt, word and label\n",
        "train_set = SpeechCommandDataset(csv=train_df, transform=AugsCreation())\n",
        "val_set = SpeechCommandDataset(csv=val_df)"
      ],
      "execution_count": 12,
      "outputs": []
    },
    {
      "cell_type": "code",
      "metadata": {
        "cellId": "fnl456zbslwnh49oinqm3r",
        "id": "mmrJd8WIhkLP"
      },
      "source": [
        ""
      ],
      "execution_count": 12,
      "outputs": []
    },
    {
      "cell_type": "markdown",
      "metadata": {
        "cellId": "tlv68756yafx4r4t1tj58",
        "id": "2vbPDqd6qUYj"
      },
      "source": [
        "### Sampler for oversampling:"
      ]
    },
    {
      "cell_type": "code",
      "metadata": {
        "id": "rfnjRKo2qUYj",
        "cellId": "1u7a0d8vox8dnpcue32ev5",
        "trusted": true
      },
      "source": [
        "# We should provide to WeightedRandomSampler _weight for every sample_; by default it is 1/len(target)\n",
        "#!g1.1\n",
        "\n",
        "def get_sampler(target):\n",
        "    class_sample_count = np.array(\n",
        "        [len(np.where(target == t)[0]) for t in np.unique(target)])   # for every class count it's number of occ.\n",
        "    weight = 1. / class_sample_count\n",
        "    samples_weight = np.array([weight[t] for t in target])\n",
        "    samples_weight = torch.from_numpy(samples_weight)\n",
        "    samples_weigth = samples_weight.float()\n",
        "    sampler = WeightedRandomSampler(samples_weight, len(samples_weight))\n",
        "    return sampler"
      ],
      "execution_count": 13,
      "outputs": []
    },
    {
      "cell_type": "code",
      "metadata": {
        "id": "UM8gLmHeqUYj",
        "cellId": "7iuad6ms0qb3xulehlyk2",
        "trusted": true
      },
      "source": [
        "#!g1.1\n",
        "train_sampler = get_sampler(train_set.csv['label'].values)"
      ],
      "execution_count": 14,
      "outputs": []
    },
    {
      "cell_type": "code",
      "metadata": {
        "id": "lyBqbxp0h9pO",
        "cellId": "smjcccf204pp7a9vsyoz4g",
        "trusted": true
      },
      "source": [
        "#!g1.1\n",
        "class Collator:\n",
        "    \n",
        "    def __call__(self, data):\n",
        "        wavs = []\n",
        "        labels = []    \n",
        "\n",
        "        for el in data:\n",
        "            wavs.append(el['wav'])\n",
        "            labels.append(el['label'])\n",
        "\n",
        "        # torch.nn.utils.rnn.pad_sequence takes list(Tensors) and returns padded (with 0.0) Tensor\n",
        "        wavs = pad_sequence(wavs, batch_first=True)    \n",
        "        labels = torch.Tensor(labels).long()\n",
        "        return wavs, labels"
      ],
      "execution_count": 15,
      "outputs": []
    },
    {
      "cell_type": "markdown",
      "metadata": {
        "cellId": "e3agl2pdtefr791vlh3fdq",
        "id": "e8G9xPRVqUYk"
      },
      "source": [
        "###  Dataloaders"
      ]
    },
    {
      "cell_type": "code",
      "metadata": {
        "id": "6wGBMcQiqUYk",
        "cellId": "spwlkkj9hzk5w1q6o2g0rw",
        "trusted": true
      },
      "source": [
        "#!g1.1\n",
        "# wtf is going on in this cell? Nothing special, just Datasphere things.\n",
        "\n",
        "# Here we are obliged to use shuffle=False because of our sampler with randomness inside.\n",
        "train_loader = DataLoader(train_set, batch_size=TaskConfig.batch_size,\n",
        "                          shuffle=False, collate_fn=Collator(),\n",
        "                          sampler=train_sampler,\n",
        "                          num_workers=0, pin_memory=True)\n",
        "\n",
        "val_loader = DataLoader(val_set, batch_size=TaskConfig.batch_size,\n",
        "                        shuffle=False, collate_fn=Collator(),\n",
        "                        num_workers=0, pin_memory=True)\n",
        "\n",
        "next(iter(train_loader))\n",
        "next(iter(val_loader))\n",
        "\n",
        "train_loader = DataLoader(train_set, batch_size=TaskConfig.batch_size,\n",
        "                          shuffle=False, collate_fn=Collator(),\n",
        "                          sampler=train_sampler,\n",
        "                          num_workers=2, pin_memory=True)\n",
        "\n",
        "val_loader = DataLoader(val_set, batch_size=TaskConfig.batch_size,\n",
        "                        shuffle=False, collate_fn=Collator(),\n",
        "                        num_workers=2, pin_memory=True)"
      ],
      "execution_count": 16,
      "outputs": []
    },
    {
      "cell_type": "markdown",
      "metadata": {
        "cellId": "8m19k1ebaclf0zu34jfdqp",
        "id": "kTlsn6cpqUYk"
      },
      "source": [
        "### Creating MelSpecs on GPU for speeeed: "
      ]
    },
    {
      "cell_type": "code",
      "metadata": {
        "id": "pRXMt6it56fW",
        "cellId": "qv7aki1mf9n3cgb7yw1edq",
        "trusted": true
      },
      "source": [
        "#!g1.1\n",
        "class LogMelspec:\n",
        "\n",
        "    def __init__(self, is_train, config):\n",
        "        # with augmentations\n",
        "        if is_train:\n",
        "            self.melspec = nn.Sequential(\n",
        "                torchaudio.transforms.MelSpectrogram(\n",
        "                    sample_rate=config.sample_rate,\n",
        "                    n_fft=400,\n",
        "                    win_length=400,\n",
        "                    hop_length=160,\n",
        "                    n_mels=config.n_mels\n",
        "                ),\n",
        "                torchaudio.transforms.FrequencyMasking(freq_mask_param=15),\n",
        "                torchaudio.transforms.TimeMasking(time_mask_param=35),\n",
        "            ).to(config.device)\n",
        "\n",
        "        # no augmentations\n",
        "        else:\n",
        "            self.melspec = torchaudio.transforms.MelSpectrogram(\n",
        "                sample_rate=config.sample_rate,\n",
        "                n_fft=400,\n",
        "                win_length=400,\n",
        "                hop_length=160,\n",
        "                n_mels=config.n_mels\n",
        "            ).to(config.device)\n",
        "\n",
        "    def __call__(self, batch):\n",
        "        # already on device\n",
        "        return torch.log(self.melspec(batch).clamp_(min=1e-9, max=1e9))"
      ],
      "execution_count": 17,
      "outputs": []
    },
    {
      "cell_type": "code",
      "metadata": {
        "id": "Pqkz4_gn8BiF",
        "cellId": "n8ldolyq3pd3poi57urr",
        "trusted": true
      },
      "source": [
        "#!g1.1\n",
        "melspec_train = LogMelspec(is_train=True, config=TaskConfig)\n",
        "melspec_val = LogMelspec(is_train=False, config=TaskConfig)"
      ],
      "execution_count": 18,
      "outputs": []
    },
    {
      "cell_type": "markdown",
      "metadata": {
        "cellId": "wktprz3g8tvu0tfyljbri",
        "id": "zoAxmihY8yxr"
      },
      "source": [
        "### Quality measurment functions:"
      ]
    },
    {
      "cell_type": "code",
      "metadata": {
        "id": "euwD1UyuqUYk",
        "cellId": "6mvseym8mg311lniraduo7m",
        "trusted": true
      },
      "source": [
        "#!g1.1\n",
        "# FA - true: 0, model: 1\n",
        "# FR - true: 1, model: 0\n",
        "\n",
        "def count_FA_FR(preds, labels):\n",
        "    FA = torch.sum(preds[labels == 0])\n",
        "    FR = torch.sum(labels[preds == 0])\n",
        "    \n",
        "    # torch.numel - returns total number of elements in tensor\n",
        "    return FA.item() / torch.numel(preds), FR.item() / torch.numel(preds)"
      ],
      "execution_count": 19,
      "outputs": []
    },
    {
      "cell_type": "code",
      "metadata": {
        "id": "YHBUrkT1qUYk",
        "cellId": "ss889hn8kgg44rjgtglao",
        "trusted": true
      },
      "source": [
        "#!g1.1\n",
        "def get_au_fa_fr(probs, labels):\n",
        "    sorted_probs, _ = torch.sort(probs)\n",
        "    sorted_probs = torch.cat((torch.Tensor([0]), sorted_probs, torch.Tensor([1])))\n",
        "    labels = torch.cat(labels, dim=0)\n",
        "        \n",
        "    FAs, FRs = [], []\n",
        "    for prob in sorted_probs:\n",
        "        preds = (probs >= prob) * 1\n",
        "        FA, FR = count_FA_FR(preds, labels)        \n",
        "        FAs.append(FA)\n",
        "        FRs.append(FR)\n",
        "    # plt.plot(FAs, FRs)\n",
        "    # plt.show()\n",
        "\n",
        "    # ~ area under curve using trapezoidal rule\n",
        "    return -np.trapz(FRs, x=FAs)"
      ],
      "execution_count": 20,
      "outputs": []
    },
    {
      "cell_type": "markdown",
      "metadata": {
        "cellId": "qs18r8zb8vchmncnf5cxg",
        "id": "CcEP5cEZqUYl"
      },
      "source": [
        "# Model"
      ]
    },
    {
      "cell_type": "code",
      "metadata": {
        "id": "2cP_pFIsy5p2",
        "cellId": "uyu1mpxdbafodddb7bpif",
        "trusted": true,
        "colab": {
          "base_uri": "https://localhost:8080/"
        },
        "outputId": "d1a3d7cd-f1aa-47e5-8bc3-2324194c4b43"
      },
      "source": [
        "#!g1.1\n",
        "class Attention(nn.Module):\n",
        "\n",
        "    def __init__(self, hidden_size: int):\n",
        "        super().__init__()\n",
        "\n",
        "        self.energy = nn.Sequential(\n",
        "            nn.Linear(hidden_size, hidden_size),\n",
        "            nn.Tanh(),\n",
        "            nn.Linear(hidden_size, 1)\n",
        "        )\n",
        "    \n",
        "    def forward(self, input):\n",
        "        return self.energy(input) \n",
        "\n",
        "class CRNN(nn.Module):\n",
        "\n",
        "    def __init__(self, config: TaskConfig):\n",
        "        super().__init__()\n",
        "        self.config = config\n",
        "\n",
        "        self.conv = nn.Sequential(\n",
        "            nn.Conv2d(\n",
        "                in_channels=1, out_channels=config.cnn_out_channels,\n",
        "                kernel_size=config.kernel_size, stride=config.stride\n",
        "            ),\n",
        "            nn.Flatten(start_dim=1, end_dim=2),\n",
        "        )\n",
        "\n",
        "        self.conv_out_frequency = (config.n_mels - config.kernel_size[0]) // \\\n",
        "            config.stride[0] + 1\n",
        "        \n",
        "        self.gru = nn.GRU(\n",
        "            input_size=self.conv_out_frequency * config.cnn_out_channels,\n",
        "            hidden_size=config.hidden_size,\n",
        "            num_layers=config.gru_num_layers,\n",
        "            dropout=0.1,\n",
        "            bidirectional=config.bidirectional,\n",
        "            batch_first=True\n",
        "        )\n",
        "\n",
        "        self.attention = Attention(config.hidden_size)\n",
        "        self.classifier = nn.Linear(config.hidden_size, config.num_classes)\n",
        "    \n",
        "    def forward(self, input):\n",
        "        input = input.unsqueeze(dim=1)\n",
        "        conv_output = self.conv(input).transpose(-1, -2)\n",
        "        gru_output, _ = self.gru(conv_output)\n",
        "        energy = self.attention(gru_output)\n",
        "        alpha = torch.softmax(energy, dim=-2)\n",
        "        contex_vector = (gru_output * alpha).sum(dim=-2)\n",
        "        output = self.classifier(contex_vector)\n",
        "        return output\n",
        "config = TaskConfig()\n",
        "model = CRNN(config)\n",
        "model"
      ],
      "execution_count": 21,
      "outputs": [
        {
          "output_type": "execute_result",
          "data": {
            "text/plain": [
              "CRNN(\n",
              "  (conv): Sequential(\n",
              "    (0): Conv2d(1, 8, kernel_size=(5, 20), stride=(2, 8))\n",
              "    (1): Flatten(start_dim=1, end_dim=2)\n",
              "  )\n",
              "  (gru): GRU(144, 64, num_layers=2, batch_first=True, dropout=0.1)\n",
              "  (attention): Attention(\n",
              "    (energy): Sequential(\n",
              "      (0): Linear(in_features=64, out_features=64, bias=True)\n",
              "      (1): Tanh()\n",
              "      (2): Linear(in_features=64, out_features=1, bias=True)\n",
              "    )\n",
              "  )\n",
              "  (classifier): Linear(in_features=64, out_features=2, bias=True)\n",
              ")"
            ]
          },
          "metadata": {},
          "execution_count": 21
        }
      ]
    },
    {
      "cell_type": "code",
      "metadata": {
        "id": "DmmSFvWaqUYn",
        "cellId": "vv6d6cq5u4jrgaawf0bkn",
        "trusted": true
      },
      "source": [
        "#!g1.1\n",
        "def train_epoch(model, opt, loader, log_melspec, device):\n",
        "    model.train()\n",
        "    for i, (batch, labels) in tqdm(enumerate(loader), total=len(loader)):\n",
        "        batch, labels = batch.to(device), labels.to(device)\n",
        "        batch = log_melspec(batch)\n",
        "\n",
        "        opt.zero_grad()\n",
        "\n",
        "        # run model # with autocast():\n",
        "        logits = model(batch)\n",
        "        # we need probabilities so we use softmax & CE separately\n",
        "        probs = F.softmax(logits, dim=-1)\n",
        "        loss = F.cross_entropy(logits, labels)\n",
        "\n",
        "        loss.backward()\n",
        "        torch.nn.utils.clip_grad_norm_(model.parameters(), 5)\n",
        "\n",
        "        opt.step()\n",
        "\n",
        "        # logging\n",
        "        argmax_probs = torch.argmax(probs, dim=-1)\n",
        "        FA, FR = count_FA_FR(argmax_probs, labels)\n",
        "        acc = torch.sum(argmax_probs == labels) / torch.numel(argmax_probs)\n",
        "\n",
        "    return acc"
      ],
      "execution_count": 22,
      "outputs": []
    },
    {
      "cell_type": "code",
      "metadata": {
        "id": "UIeRbn4tqUYo",
        "cellId": "xm5zu307jchi5e69eh0f9",
        "trusted": true
      },
      "source": [
        "#!g1.1\n",
        "@torch.no_grad()\n",
        "def validation(model, loader, log_melspec, device):\n",
        "    model.eval()\n",
        "\n",
        "    val_losses, accs, FAs, FRs = [], [], [], []\n",
        "    all_probs, all_labels = [], []\n",
        "    for i, (batch, labels) in tqdm(enumerate(loader)):\n",
        "        batch, labels = batch.to(device), labels.to(device)\n",
        "        batch = log_melspec(batch)\n",
        "\n",
        "        output = model(batch)\n",
        "        # we need probabilities so we use softmax & CE separately\n",
        "        probs = F.softmax(output, dim=-1)\n",
        "        loss = F.cross_entropy(output, labels)\n",
        "\n",
        "        # logging\n",
        "        argmax_probs = torch.argmax(probs, dim=-1)\n",
        "        all_probs.append(probs[:, 1].cpu())\n",
        "        all_labels.append(labels.cpu())\n",
        "        val_losses.append(loss.item())\n",
        "        accs.append(\n",
        "            torch.sum(argmax_probs == labels).item() /  # ???\n",
        "            torch.numel(argmax_probs)\n",
        "        )\n",
        "        FA, FR = count_FA_FR(argmax_probs, labels)\n",
        "        FAs.append(FA)\n",
        "        FRs.append(FR)\n",
        "\n",
        "    # area under FA/FR curve for whole loader\n",
        "    au_fa_fr = get_au_fa_fr(torch.cat(all_probs, dim=0).cpu(), all_labels)\n",
        "    return au_fa_fr"
      ],
      "execution_count": 23,
      "outputs": []
    },
    {
      "cell_type": "code",
      "metadata": {
        "id": "PpyvKwp0k3IU",
        "cellId": "5ax8xr0rpc6fpljb5cqpcf",
        "trusted": true
      },
      "source": [
        "#!g1.1\n",
        "from collections import defaultdict\n",
        "from IPython.display import clear_output\n",
        "from matplotlib import pyplot as plt\n",
        "\n",
        "history = defaultdict(list)"
      ],
      "execution_count": 24,
      "outputs": []
    },
    {
      "cell_type": "markdown",
      "metadata": {
        "cellId": "s18njnaikso8nmemgr8q6h",
        "id": "GSNW-nZCJ4Q0"
      },
      "source": [
        "# Training"
      ]
    },
    {
      "cell_type": "code",
      "metadata": {
        "id": "Q8sVpHNoocgA",
        "cellId": "w3yvjay5jafjpauo8akal",
        "trusted": true,
        "colab": {
          "base_uri": "https://localhost:8080/"
        },
        "outputId": "1ff71174-b508-48b1-80ee-1517df13450e"
      },
      "source": [
        "#!g1.1\n",
        "config = TaskConfig()\n",
        "model = CRNN(config).to(config.device)\n",
        "\n",
        "print(model)\n",
        "\n",
        "opt = torch.optim.Adam(\n",
        "    model.parameters(),\n",
        "    lr=config.learning_rate,\n",
        "    weight_decay=config.weight_decay\n",
        ")"
      ],
      "execution_count": 25,
      "outputs": [
        {
          "output_type": "stream",
          "name": "stdout",
          "text": [
            "CRNN(\n",
            "  (conv): Sequential(\n",
            "    (0): Conv2d(1, 8, kernel_size=(5, 20), stride=(2, 8))\n",
            "    (1): Flatten(start_dim=1, end_dim=2)\n",
            "  )\n",
            "  (gru): GRU(144, 64, num_layers=2, batch_first=True, dropout=0.1)\n",
            "  (attention): Attention(\n",
            "    (energy): Sequential(\n",
            "      (0): Linear(in_features=64, out_features=64, bias=True)\n",
            "      (1): Tanh()\n",
            "      (2): Linear(in_features=64, out_features=1, bias=True)\n",
            "    )\n",
            "  )\n",
            "  (classifier): Linear(in_features=64, out_features=2, bias=True)\n",
            ")\n"
          ]
        }
      ]
    },
    {
      "cell_type": "code",
      "metadata": {
        "id": "zedXm9dmINAE",
        "cellId": "ep204wnf3341jco3g4ml25",
        "trusted": true,
        "colab": {
          "base_uri": "https://localhost:8080/"
        },
        "outputId": "8a08c606-3eaa-4a0e-c965-adc68525b3c3"
      },
      "source": [
        "#!g1.1\n",
        "sum([p.numel() for p in model.parameters()])"
      ],
      "execution_count": 26,
      "outputs": [
        {
          "output_type": "execute_result",
          "data": {
            "text/plain": [
              "70443"
            ]
          },
          "metadata": {},
          "execution_count": 26
        }
      ]
    },
    {
      "cell_type": "code",
      "metadata": {
        "id": "32oooz4lqUYo",
        "cellId": "bimoqzzcwaqekeouthq0dt",
        "trusted": true
      },
      "source": [
        "#!g1.1\n",
        "# TRAIN\n",
        "if False:\n",
        "    for n in range(1, TaskConfig.num_epochs + 1):\n",
        "\n",
        "        train_epoch(model, opt, train_loader,\n",
        "                    melspec_train, config.device)\n",
        "\n",
        "        au_fa_fr = validation(model, val_loader,\n",
        "                              melspec_val, config.device)\n",
        "        history['val_metric'].append(au_fa_fr)\n",
        "\n",
        "        clear_output()\n",
        "        plt.plot(history['val_metric'])\n",
        "        plt.ylabel('Metric')\n",
        "        plt.xlabel('Epoch')\n",
        "        plt.grid()\n",
        "        plt.show()\n",
        "\n",
        "        print('END OF EPOCH', n)\n",
        "\n",
        "    assert (history['val_metric'][-1] - 0.00005) <= 5e-6, \"Quality is not good enough\"\n",
        "    torch.save(model.state_dict(), \"model.pt\")"
      ],
      "execution_count": 29,
      "outputs": []
    },
    {
      "cell_type": "markdown",
      "metadata": {
        "cellId": "kzr0hipsbf0b4nb38svbff",
        "id": "WzeLiSTsoFa7"
      },
      "source": [
        "# Streaming"
      ]
    },
    {
      "cell_type": "code",
      "metadata": {
        "cellId": "898kudvyx7ib9ydt5xlb2t",
        "trusted": true,
        "id": "QbPje4hDoFa8"
      },
      "source": [
        "#!g1.1\n",
        "model.load_state_dict(torch.load(\"model.pt\"))\n",
        "model.eval();"
      ],
      "execution_count": 30,
      "outputs": []
    },
    {
      "cell_type": "code",
      "metadata": {
        "cellId": "yd1yf4fcvgcev28xwci6qs",
        "trusted": true,
        "id": "t_TX0FBQoFa9"
      },
      "source": [
        "#!g1.1\n",
        "import sys\n",
        "\n",
        "class StreamingKWS(CRNN):\n",
        "    def  __init__(self, config, window_length, step=1):\n",
        "        super().__init__(config)\n",
        "        \n",
        "        self.window_len = window_length\n",
        "        self.step = max(config.stride[1], step)\n",
        "        self.kernel_size = self.config.kernel_size[1]\n",
        "        self.reset()\n",
        "\n",
        "    def forward(self, input: torch.tensor) -> List[float]:\n",
        "        '''\n",
        "        input:\n",
        "          2d torch.tensor of shape (len, n_mels,)\n",
        "        output:\n",
        "          1d list of floats of shape (S,)\n",
        "          where S = (L + len - kernel_size[1]) // stride[1] - (L - kernel_size[1]) // stride[1])\n",
        "          where L -- sum of previous inputs lens\n",
        "        '''\n",
        "        outputs = []\n",
        "\n",
        "        input = input.unsqueeze(dim=0).unsqueeze(dim=0)\n",
        "        self.input_buffer = torch.cat((self.input_buffer, input), dim=-1)\n",
        "        \n",
        "        if self.input_buffer.size(-1) < self.kernel_size:\n",
        "            print(f\"Provide {self.kernel_size-self.input_buffer.size(-1)} more observations to have next prediction.\", file=sys.stderr)\n",
        "            return []\n",
        "        for i in range(self.kernel_size, self.input_buffer.size(-1)+1, self.step):\n",
        "            input_ = self.input_buffer[:,:,:,i-self.kernel_size:i]\n",
        "            conv_output = self.conv(input_).transpose(-1, -2)\n",
        "            gru_output, self.hidden = self.gru(conv_output, self.hidden)\n",
        "            \n",
        "            energy = self.attention(gru_output)\n",
        "            self.energy_buffer = torch.cat((self.energy_buffer, energy), dim=1)[:,-self.window_len:]\n",
        "            alpha = torch.softmax(self.energy_buffer, dim=-2)\n",
        "            contex_vector = (alpha * gru_output).sum(dim=-2)\n",
        "            output = self.classifier(contex_vector)\n",
        "            output = F.softmax(output, dim=-1)\n",
        "            outputs.append(output[0,1].item())\n",
        "        self.input_buffer = self.input_buffer[:,:,:,i-self.kernel_size+self.step:]\n",
        "        return outputs\n",
        "    def reset(self):\n",
        "        '''\n",
        "        call this function before passing new audio stream\n",
        "        '''\n",
        "        self.input_buffer = torch.zeros((1, 1, self.config.n_mels, 0), device=self.config.device)\n",
        "        self.energy_buffer = torch.zeros((1, self.window_len, 1), device=self.config.device)\n",
        "        self.hidden = None\n"
      ],
      "execution_count": 152,
      "outputs": []
    },
    {
      "cell_type": "code",
      "metadata": {
        "cellId": "yk4g7uqfd5gqj9pi7mhprl",
        "trusted": true,
        "id": "4T_MXB3PoFa_"
      },
      "source": [
        "#!g1.1\n",
        "step = 8\n",
        "window_size = 30\n",
        "streaming_model = StreamingKWS(model.config, window_size, step).to(model.config.device)\n",
        "streaming_model.load_state_dict(torch.load(\"model.pt\"))\n",
        "streaming_model.eval();"
      ],
      "execution_count": 227,
      "outputs": []
    },
    {
      "cell_type": "code",
      "metadata": {
        "cellId": "qrkgirn8w8h2gfgs9q9itk",
        "trusted": true,
        "id": "EOTNTx5UoFbA",
        "colab": {
          "base_uri": "https://localhost:8080/",
          "height": 0
        },
        "outputId": "2c228710-a336-4140-e838-2e8f103fd505"
      },
      "source": [
        "#!g1.1\n",
        "streaming_model.reset()\n",
        "device=model.config.device\n",
        "for batch, labels in train_loader:\n",
        "    n = 8\n",
        "    batch, _labels = batch[0:n], labels[0:n]\n",
        "    batch = melspec_val(batch.to(device))\n",
        "    output_ = torch.softmax(model(batch).detach().cpu(), dim=-1)[:,1]\n",
        "    labels = [torch.zeros(batch[i].size(-1)//step) + _labels[i] for i in range(n)]\n",
        "    labels = torch.cat(labels, dim=0).cpu().numpy()\n",
        "    output_ = [torch.zeros(batch[i].size(-1)//step) + output_[i] for i in range(n)]\n",
        "    output_ = torch.cat(output_, dim=0).numpy()\n",
        "    batch = batch.transpose(0, 1).flatten(start_dim=1)\n",
        "\n",
        "    output = []\n",
        "    for i in range(step, batch.size(1)-1, step):\n",
        "      b = batch[:,i-step:i]\n",
        "      output += streaming_model(b)\n",
        "    print(_labels)\n",
        "    plt.plot(labels, '--', label='target', alpha=0.5)\n",
        "    plt.plot(output, label='Streaming prediction', alpha=1)\n",
        "    plt.plot(output_, label='Straightforward prediction', alpha=0.5)\n",
        "    plt.legend(loc='center left', bbox_to_anchor=(1, 0.5))\n",
        "    plt.show()\n",
        "    break"
      ],
      "execution_count": 240,
      "outputs": [
        {
          "output_type": "stream",
          "name": "stderr",
          "text": [
            "Provide 12 more observations to have next prediction.\n",
            "Provide 4 more observations to have next prediction.\n"
          ]
        },
        {
          "output_type": "stream",
          "name": "stdout",
          "text": [
            "tensor([0, 1, 1, 0, 0, 0, 1, 0])\n"
          ]
        },
        {
          "output_type": "display_data",
          "data": {
            "image/png": "[encoded data removed]",
            "text/plain": [
              "<Figure size 432x288 with 1 Axes>"
            ]
          },
          "metadata": {
            "needs_background": "light"
          }
        }
      ]
    },
    {
      "cell_type": "markdown",
      "metadata": {
        "id": "8czBkPGCYLit"
      },
      "source": [
        "# Dark knowledge distillation"
      ]
    },
    {
      "cell_type": "code",
      "metadata": {
        "id": "5QxpDjWHYVhi"
      },
      "source": [
        "#!g1.1\n",
        "# TRAIN\n",
        "def train(model, config, history=defaultdict(list), model_name=None, last_epoch=0):\n",
        "    for n in range(last_epoch+1, config.num_epochs + 1):\n",
        "\n",
        "        train_epoch(model, opt, train_loader,\n",
        "                    melspec_train, config.device)\n",
        "\n",
        "        au_fa_fr = validation(model, val_loader,\n",
        "                              melspec_val, config.device)\n",
        "        history['val_metric'].append(au_fa_fr)\n",
        "\n",
        "        clear_output()\n",
        "        plt.plot(history['val_metric'])\n",
        "        plt.ylabel('Metric')\n",
        "        plt.xlabel('Epoch')\n",
        "        plt.grid()\n",
        "        plt.show()\n",
        "\n",
        "        print('END OF EPOCH', n)\n",
        "        if (history['val_metric'][-1] - 1.1*5e-5) <= 5e-6:\n",
        "            break          \n",
        "\n",
        "    if model_name is not None:\n",
        "        torch.save(model.state_dict(), f\"{model_name}.pt\")\n",
        "    assert (history['val_metric'][-1] - 1.1*5e-5) <= 5e-6, \"Quality is not good enough\""
      ],
      "execution_count": 261,
      "outputs": []
    },
    {
      "cell_type": "code",
      "metadata": {
        "colab": {
          "base_uri": "https://localhost:8080/"
        },
        "id": "gzWCp-mUYc5k",
        "outputId": "ee3861d6-2d59-49d7-885b-8f77ea7ccfd5"
      },
      "source": [
        "small_config = TaskConfig()\n",
        "small_config.hidden_size = 32\n",
        "small_config.num_epochs = 50\n",
        "small_model = CRNN(small_config).to(device)\n",
        "\n",
        "history = defaultdict(list)\n",
        "opt = torch.optim.Adam(\n",
        "    small_model.parameters(),\n",
        "    lr=small_config.learning_rate,\n",
        "    weight_decay=small_config.weight_decay\n",
        ")\n",
        "\n",
        "print(sum([p.numel() for p in small_model.parameters()]))\n",
        "print(small_model)\n",
        "\n",
        "train(small_model, small_config, history, \"small_model_32\")"
      ],
      "execution_count": 253,
      "outputs": [
        {
          "output_type": "execute_result",
          "data": {
            "text/plain": [
              "CRNN(\n",
              "  (conv): Sequential(\n",
              "    (0): Conv2d(1, 8, kernel_size=(5, 20), stride=(2, 8))\n",
              "    (1): Flatten(start_dim=1, end_dim=2)\n",
              "  )\n",
              "  (gru): GRU(144, 32, num_layers=2, batch_first=True, dropout=0.1)\n",
              "  (attention): Attention(\n",
              "    (energy): Sequential(\n",
              "      (0): Linear(in_features=32, out_features=32, bias=True)\n",
              "      (1): Tanh()\n",
              "      (2): Linear(in_features=32, out_features=1, bias=True)\n",
              "    )\n",
              "  )\n",
              "  (classifier): Linear(in_features=32, out_features=2, bias=True)\n",
              ")"
            ]
          },
          "metadata": {},
          "execution_count": 253
        }
      ]
    },
    {
      "cell_type": "code",
      "metadata": {
        "colab": {
          "base_uri": "https://localhost:8080/",
          "height": 561
        },
        "id": "3L7xsCqYlJwO",
        "outputId": "8079cae4-6071-4547-a8db-53cd580bf1ba"
      },
      "source": [
        "small_config = TaskConfig()\n",
        "small_config.hidden_size = 16\n",
        "small_config.num_epochs = 50\n",
        "small_model = CRNN(small_config).to(device)\n",
        "\n",
        "history = defaultdict(list)\n",
        "opt = torch.optim.Adam(\n",
        "    small_model.parameters(),\n",
        "    lr=small_config.learning_rate,\n",
        "    weight_decay=small_config.weight_decay\n",
        ")\n",
        "\n",
        "print(sum([p.numel() for p in small_model.parameters()]) v)\n",
        "print(small_model)"
      ],
      "execution_count": 260,
      "outputs": [
        {
          "output_type": "display_data",
          "data": {
            "image/png": "[encoded data removed]",
            "text/plain": [
              "<Figure size 432x288 with 1 Axes>"
            ]
          },
          "metadata": {
            "needs_background": "light"
          }
        },
        {
          "output_type": "stream",
          "name": "stdout",
          "text": [
            "END OF EPOCH 20\n"
          ]
        },
        {
          "output_type": "error",
          "ename": "AssertionError",
          "evalue": "ignored",
          "traceback": [
            "\u001b[0;31m---------------------------------------------------------------------------\u001b[0m",
            "\u001b[0;31mAssertionError\u001b[0m                            Traceback (most recent call last)",
            "\u001b[0;32m<ipython-input-260-65afaccb9dc4>\u001b[0m in \u001b[0;36m<module>\u001b[0;34m()\u001b[0m\n\u001b[1;32m     14\u001b[0m \u001b[0mprint\u001b[0m\u001b[0;34m(\u001b[0m\u001b[0msmall_model\u001b[0m\u001b[0;34m)\u001b[0m\u001b[0;34m\u001b[0m\u001b[0;34m\u001b[0m\u001b[0m\n\u001b[1;32m     15\u001b[0m \u001b[0;34m\u001b[0m\u001b[0m\n\u001b[0;32m---> 16\u001b[0;31m \u001b[0mtrain\u001b[0m\u001b[0;34m(\u001b[0m\u001b[0msmall_model\u001b[0m\u001b[0;34m,\u001b[0m \u001b[0msmall_config\u001b[0m\u001b[0;34m,\u001b[0m \u001b[0mhistory\u001b[0m\u001b[0;34m,\u001b[0m \u001b[0;34m\"small_model_16\"\u001b[0m\u001b[0;34m)\u001b[0m\u001b[0;34m\u001b[0m\u001b[0;34m\u001b[0m\u001b[0m\n\u001b[0m",
            "\u001b[0;32m<ipython-input-258-0a695e23bfcb>\u001b[0m in \u001b[0;36mtrain\u001b[0;34m(model, config, history, model_name)\u001b[0m\n\u001b[1;32m     24\u001b[0m     \u001b[0;32mif\u001b[0m \u001b[0mmodel_name\u001b[0m \u001b[0;32mis\u001b[0m \u001b[0;32mnot\u001b[0m \u001b[0;32mNone\u001b[0m\u001b[0;34m:\u001b[0m\u001b[0;34m\u001b[0m\u001b[0;34m\u001b[0m\u001b[0m\n\u001b[1;32m     25\u001b[0m         \u001b[0mtorch\u001b[0m\u001b[0;34m.\u001b[0m\u001b[0msave\u001b[0m\u001b[0;34m(\u001b[0m\u001b[0mmodel\u001b[0m\u001b[0;34m.\u001b[0m\u001b[0mstate_dict\u001b[0m\u001b[0;34m(\u001b[0m\u001b[0;34m)\u001b[0m\u001b[0;34m,\u001b[0m \u001b[0;34mf\"{model_name}.pt\"\u001b[0m\u001b[0;34m)\u001b[0m\u001b[0;34m\u001b[0m\u001b[0;34m\u001b[0m\u001b[0m\n\u001b[0;32m---> 26\u001b[0;31m     \u001b[0;32massert\u001b[0m \u001b[0;34m(\u001b[0m\u001b[0mhistory\u001b[0m\u001b[0;34m[\u001b[0m\u001b[0;34m'val_metric'\u001b[0m\u001b[0;34m]\u001b[0m\u001b[0;34m[\u001b[0m\u001b[0;34m-\u001b[0m\u001b[0;36m1\u001b[0m\u001b[0;34m]\u001b[0m \u001b[0;34m-\u001b[0m \u001b[0;36m1.1\u001b[0m\u001b[0;34m*\u001b[0m\u001b[0;36m5e-5\u001b[0m\u001b[0;34m)\u001b[0m \u001b[0;34m<=\u001b[0m \u001b[0;36m5e-6\u001b[0m\u001b[0;34m,\u001b[0m \u001b[0;34m\"Quality is not good enough\"\u001b[0m\u001b[0;34m\u001b[0m\u001b[0;34m\u001b[0m\u001b[0m\n\u001b[0m",
            "\u001b[0;31mAssertionError\u001b[0m: Quality is not good enough"
          ]
        }
      ]
    },
    {
      "cell_type": "code",
      "metadata": {
        "colab": {
          "base_uri": "https://localhost:8080/",
          "height": 313
        },
        "id": "deX4OBForo9y",
        "outputId": "658d8c47-e528-42ad-b14c-cc0845000610"
      },
      "source": [
        "train(small_model, small_config, history, \"small_model_16\", 20)"
      ],
      "execution_count": null,
      "outputs": [
        {
          "output_type": "display_data",
          "data": {
            "image/png": "[encoded data removed]",
            "text/plain": [
              "<Figure size 432x288 with 1 Axes>"
            ]
          },
          "metadata": {
            "needs_background": "light"
          }
        },
        {
          "output_type": "stream",
          "name": "stdout",
          "text": [
            "END OF EPOCH 23\n"
          ]
        },
        {
          "output_type": "stream",
          "name": "stderr",
          "text": [
            " 52%|█████▏    | 209/405 [00:29<00:27,  7.18it/s]"
          ]
        }
      ]
    }
  ]
}